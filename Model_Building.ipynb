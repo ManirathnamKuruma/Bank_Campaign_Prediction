{
 "cells": [
  {
   "cell_type": "code",
   "execution_count": 1,
   "metadata": {},
   "outputs": [],
   "source": [
    "from sklearn.linear_model import LogisticRegression\n",
    "from sklearn.model_selection import RandomizedSearchCV"
   ]
  },
  {
   "cell_type": "code",
   "execution_count": 2,
   "metadata": {},
   "outputs": [],
   "source": [
    "from sklearn.model_selection import StratifiedKFold\n",
    "from sklearn.metrics import accuracy_score"
   ]
  },
  {
   "cell_type": "code",
   "execution_count": 3,
   "metadata": {},
   "outputs": [
    {
     "data": {
      "text/html": [
       "<div>\n",
       "<style scoped>\n",
       "    .dataframe tbody tr th:only-of-type {\n",
       "        vertical-align: middle;\n",
       "    }\n",
       "\n",
       "    .dataframe tbody tr th {\n",
       "        vertical-align: top;\n",
       "    }\n",
       "\n",
       "    .dataframe thead th {\n",
       "        text-align: right;\n",
       "    }\n",
       "</style>\n",
       "<table border=\"1\" class=\"dataframe\">\n",
       "  <thead>\n",
       "    <tr style=\"text-align: right;\">\n",
       "      <th></th>\n",
       "      <th>age</th>\n",
       "      <th>job</th>\n",
       "      <th>marital</th>\n",
       "      <th>education</th>\n",
       "      <th>default</th>\n",
       "      <th>balance</th>\n",
       "      <th>housing</th>\n",
       "      <th>loan</th>\n",
       "      <th>contact</th>\n",
       "      <th>day</th>\n",
       "      <th>month</th>\n",
       "      <th>duration</th>\n",
       "      <th>campaign</th>\n",
       "      <th>pdays</th>\n",
       "      <th>poutcome</th>\n",
       "      <th>y</th>\n",
       "    </tr>\n",
       "  </thead>\n",
       "  <tbody>\n",
       "    <tr>\n",
       "      <th>0</th>\n",
       "      <td>58</td>\n",
       "      <td>9458</td>\n",
       "      <td>27214</td>\n",
       "      <td>13301</td>\n",
       "      <td>44396</td>\n",
       "      <td>2143</td>\n",
       "      <td>25130</td>\n",
       "      <td>37967</td>\n",
       "      <td>13020</td>\n",
       "      <td>5</td>\n",
       "      <td>13766</td>\n",
       "      <td>261</td>\n",
       "      <td>1</td>\n",
       "      <td>-1</td>\n",
       "      <td>36959</td>\n",
       "      <td>0</td>\n",
       "    </tr>\n",
       "    <tr>\n",
       "      <th>1</th>\n",
       "      <td>44</td>\n",
       "      <td>7597</td>\n",
       "      <td>12790</td>\n",
       "      <td>23202</td>\n",
       "      <td>44396</td>\n",
       "      <td>29</td>\n",
       "      <td>25130</td>\n",
       "      <td>37967</td>\n",
       "      <td>13020</td>\n",
       "      <td>5</td>\n",
       "      <td>13766</td>\n",
       "      <td>151</td>\n",
       "      <td>1</td>\n",
       "      <td>-1</td>\n",
       "      <td>36959</td>\n",
       "      <td>0</td>\n",
       "    </tr>\n",
       "    <tr>\n",
       "      <th>2</th>\n",
       "      <td>33</td>\n",
       "      <td>1487</td>\n",
       "      <td>27214</td>\n",
       "      <td>23202</td>\n",
       "      <td>44396</td>\n",
       "      <td>2</td>\n",
       "      <td>25130</td>\n",
       "      <td>7244</td>\n",
       "      <td>13020</td>\n",
       "      <td>5</td>\n",
       "      <td>13766</td>\n",
       "      <td>76</td>\n",
       "      <td>1</td>\n",
       "      <td>-1</td>\n",
       "      <td>36959</td>\n",
       "      <td>0</td>\n",
       "    </tr>\n",
       "    <tr>\n",
       "      <th>3</th>\n",
       "      <td>47</td>\n",
       "      <td>9732</td>\n",
       "      <td>27214</td>\n",
       "      <td>1857</td>\n",
       "      <td>44396</td>\n",
       "      <td>1506</td>\n",
       "      <td>25130</td>\n",
       "      <td>37967</td>\n",
       "      <td>13020</td>\n",
       "      <td>5</td>\n",
       "      <td>13766</td>\n",
       "      <td>92</td>\n",
       "      <td>1</td>\n",
       "      <td>-1</td>\n",
       "      <td>36959</td>\n",
       "      <td>0</td>\n",
       "    </tr>\n",
       "    <tr>\n",
       "      <th>4</th>\n",
       "      <td>33</td>\n",
       "      <td>288</td>\n",
       "      <td>12790</td>\n",
       "      <td>1857</td>\n",
       "      <td>44396</td>\n",
       "      <td>1</td>\n",
       "      <td>20081</td>\n",
       "      <td>37967</td>\n",
       "      <td>13020</td>\n",
       "      <td>5</td>\n",
       "      <td>13766</td>\n",
       "      <td>198</td>\n",
       "      <td>1</td>\n",
       "      <td>-1</td>\n",
       "      <td>36959</td>\n",
       "      <td>0</td>\n",
       "    </tr>\n",
       "  </tbody>\n",
       "</table>\n",
       "</div>"
      ],
      "text/plain": [
       "   age   job  marital  education  default  balance  housing   loan  contact  \\\n",
       "0   58  9458    27214      13301    44396     2143    25130  37967    13020   \n",
       "1   44  7597    12790      23202    44396       29    25130  37967    13020   \n",
       "2   33  1487    27214      23202    44396        2    25130   7244    13020   \n",
       "3   47  9732    27214       1857    44396     1506    25130  37967    13020   \n",
       "4   33   288    12790       1857    44396        1    20081  37967    13020   \n",
       "\n",
       "   day  month  duration  campaign  pdays  poutcome  y  \n",
       "0    5  13766       261         1     -1     36959  0  \n",
       "1    5  13766       151         1     -1     36959  0  \n",
       "2    5  13766        76         1     -1     36959  0  \n",
       "3    5  13766        92         1     -1     36959  0  \n",
       "4    5  13766       198         1     -1     36959  0  "
      ]
     },
     "execution_count": 3,
     "metadata": {},
     "output_type": "execute_result"
    }
   ],
   "source": [
    "import pandas as pd \n",
    "bank_df=pd.read_csv('processed_data2.csv')\n",
    "bank_df.head()"
   ]
  },
  {
   "cell_type": "code",
   "execution_count": 4,
   "metadata": {},
   "outputs": [
    {
     "data": {
      "text/html": [
       "<div>\n",
       "<style scoped>\n",
       "    .dataframe tbody tr th:only-of-type {\n",
       "        vertical-align: middle;\n",
       "    }\n",
       "\n",
       "    .dataframe tbody tr th {\n",
       "        vertical-align: top;\n",
       "    }\n",
       "\n",
       "    .dataframe thead th {\n",
       "        text-align: right;\n",
       "    }\n",
       "</style>\n",
       "<table border=\"1\" class=\"dataframe\">\n",
       "  <thead>\n",
       "    <tr style=\"text-align: right;\">\n",
       "      <th></th>\n",
       "      <th>age</th>\n",
       "      <th>job</th>\n",
       "      <th>marital</th>\n",
       "      <th>education</th>\n",
       "      <th>default</th>\n",
       "      <th>balance</th>\n",
       "      <th>housing</th>\n",
       "      <th>loan</th>\n",
       "      <th>contact</th>\n",
       "      <th>day</th>\n",
       "      <th>month</th>\n",
       "      <th>duration</th>\n",
       "      <th>campaign</th>\n",
       "      <th>pdays</th>\n",
       "      <th>poutcome</th>\n",
       "      <th>y</th>\n",
       "    </tr>\n",
       "  </thead>\n",
       "  <tbody>\n",
       "    <tr>\n",
       "      <th>24080</th>\n",
       "      <td>56</td>\n",
       "      <td>7597</td>\n",
       "      <td>27214</td>\n",
       "      <td>23202</td>\n",
       "      <td>44396</td>\n",
       "      <td>589</td>\n",
       "      <td>25130</td>\n",
       "      <td>37967</td>\n",
       "      <td>13020</td>\n",
       "      <td>23</td>\n",
       "      <td>738</td>\n",
       "      <td>518</td>\n",
       "      <td>1</td>\n",
       "      <td>147</td>\n",
       "      <td>1511</td>\n",
       "      <td>1</td>\n",
       "    </tr>\n",
       "    <tr>\n",
       "      <th>24165</th>\n",
       "      <td>30</td>\n",
       "      <td>5171</td>\n",
       "      <td>27214</td>\n",
       "      <td>23202</td>\n",
       "      <td>44396</td>\n",
       "      <td>873</td>\n",
       "      <td>25130</td>\n",
       "      <td>37967</td>\n",
       "      <td>2906</td>\n",
       "      <td>12</td>\n",
       "      <td>3970</td>\n",
       "      <td>119</td>\n",
       "      <td>1</td>\n",
       "      <td>167</td>\n",
       "      <td>1511</td>\n",
       "      <td>0</td>\n",
       "    </tr>\n",
       "    <tr>\n",
       "      <th>24239</th>\n",
       "      <td>48</td>\n",
       "      <td>5171</td>\n",
       "      <td>5207</td>\n",
       "      <td>23202</td>\n",
       "      <td>44396</td>\n",
       "      <td>295</td>\n",
       "      <td>25130</td>\n",
       "      <td>37967</td>\n",
       "      <td>29285</td>\n",
       "      <td>17</td>\n",
       "      <td>3970</td>\n",
       "      <td>123</td>\n",
       "      <td>1</td>\n",
       "      <td>164</td>\n",
       "      <td>1511</td>\n",
       "      <td>0</td>\n",
       "    </tr>\n",
       "    <tr>\n",
       "      <th>24264</th>\n",
       "      <td>49</td>\n",
       "      <td>9458</td>\n",
       "      <td>27214</td>\n",
       "      <td>13301</td>\n",
       "      <td>44396</td>\n",
       "      <td>64</td>\n",
       "      <td>20081</td>\n",
       "      <td>37967</td>\n",
       "      <td>29285</td>\n",
       "      <td>17</td>\n",
       "      <td>3970</td>\n",
       "      <td>208</td>\n",
       "      <td>1</td>\n",
       "      <td>159</td>\n",
       "      <td>1511</td>\n",
       "      <td>0</td>\n",
       "    </tr>\n",
       "    <tr>\n",
       "      <th>24435</th>\n",
       "      <td>42</td>\n",
       "      <td>7597</td>\n",
       "      <td>27214</td>\n",
       "      <td>13301</td>\n",
       "      <td>44396</td>\n",
       "      <td>14282</td>\n",
       "      <td>25130</td>\n",
       "      <td>37967</td>\n",
       "      <td>29285</td>\n",
       "      <td>17</td>\n",
       "      <td>3970</td>\n",
       "      <td>77</td>\n",
       "      <td>1</td>\n",
       "      <td>103</td>\n",
       "      <td>1511</td>\n",
       "      <td>0</td>\n",
       "    </tr>\n",
       "    <tr>\n",
       "      <th>...</th>\n",
       "      <td>...</td>\n",
       "      <td>...</td>\n",
       "      <td>...</td>\n",
       "      <td>...</td>\n",
       "      <td>...</td>\n",
       "      <td>...</td>\n",
       "      <td>...</td>\n",
       "      <td>...</td>\n",
       "      <td>...</td>\n",
       "      <td>...</td>\n",
       "      <td>...</td>\n",
       "      <td>...</td>\n",
       "      <td>...</td>\n",
       "      <td>...</td>\n",
       "      <td>...</td>\n",
       "      <td>...</td>\n",
       "    </tr>\n",
       "    <tr>\n",
       "      <th>45190</th>\n",
       "      <td>32</td>\n",
       "      <td>9732</td>\n",
       "      <td>27214</td>\n",
       "      <td>23202</td>\n",
       "      <td>44396</td>\n",
       "      <td>136</td>\n",
       "      <td>20081</td>\n",
       "      <td>37967</td>\n",
       "      <td>29285</td>\n",
       "      <td>16</td>\n",
       "      <td>3970</td>\n",
       "      <td>206</td>\n",
       "      <td>1</td>\n",
       "      <td>188</td>\n",
       "      <td>1511</td>\n",
       "      <td>1</td>\n",
       "    </tr>\n",
       "    <tr>\n",
       "      <th>45193</th>\n",
       "      <td>28</td>\n",
       "      <td>1579</td>\n",
       "      <td>12790</td>\n",
       "      <td>13301</td>\n",
       "      <td>44396</td>\n",
       "      <td>159</td>\n",
       "      <td>20081</td>\n",
       "      <td>37967</td>\n",
       "      <td>29285</td>\n",
       "      <td>16</td>\n",
       "      <td>3970</td>\n",
       "      <td>449</td>\n",
       "      <td>2</td>\n",
       "      <td>33</td>\n",
       "      <td>1511</td>\n",
       "      <td>1</td>\n",
       "    </tr>\n",
       "    <tr>\n",
       "      <th>45195</th>\n",
       "      <td>68</td>\n",
       "      <td>2264</td>\n",
       "      <td>27214</td>\n",
       "      <td>23202</td>\n",
       "      <td>44396</td>\n",
       "      <td>1146</td>\n",
       "      <td>20081</td>\n",
       "      <td>37967</td>\n",
       "      <td>29285</td>\n",
       "      <td>16</td>\n",
       "      <td>3970</td>\n",
       "      <td>212</td>\n",
       "      <td>1</td>\n",
       "      <td>187</td>\n",
       "      <td>1511</td>\n",
       "      <td>1</td>\n",
       "    </tr>\n",
       "    <tr>\n",
       "      <th>45201</th>\n",
       "      <td>53</td>\n",
       "      <td>9458</td>\n",
       "      <td>27214</td>\n",
       "      <td>13301</td>\n",
       "      <td>44396</td>\n",
       "      <td>583</td>\n",
       "      <td>20081</td>\n",
       "      <td>37967</td>\n",
       "      <td>29285</td>\n",
       "      <td>17</td>\n",
       "      <td>3970</td>\n",
       "      <td>226</td>\n",
       "      <td>1</td>\n",
       "      <td>184</td>\n",
       "      <td>1511</td>\n",
       "      <td>1</td>\n",
       "    </tr>\n",
       "    <tr>\n",
       "      <th>45208</th>\n",
       "      <td>72</td>\n",
       "      <td>2264</td>\n",
       "      <td>27214</td>\n",
       "      <td>23202</td>\n",
       "      <td>44396</td>\n",
       "      <td>5715</td>\n",
       "      <td>20081</td>\n",
       "      <td>37967</td>\n",
       "      <td>29285</td>\n",
       "      <td>17</td>\n",
       "      <td>3970</td>\n",
       "      <td>1127</td>\n",
       "      <td>5</td>\n",
       "      <td>184</td>\n",
       "      <td>1511</td>\n",
       "      <td>1</td>\n",
       "    </tr>\n",
       "  </tbody>\n",
       "</table>\n",
       "<p>1511 rows × 16 columns</p>\n",
       "</div>"
      ],
      "text/plain": [
       "       age   job  marital  education  default  balance  housing   loan  \\\n",
       "24080   56  7597    27214      23202    44396      589    25130  37967   \n",
       "24165   30  5171    27214      23202    44396      873    25130  37967   \n",
       "24239   48  5171     5207      23202    44396      295    25130  37967   \n",
       "24264   49  9458    27214      13301    44396       64    20081  37967   \n",
       "24435   42  7597    27214      13301    44396    14282    25130  37967   \n",
       "...    ...   ...      ...        ...      ...      ...      ...    ...   \n",
       "45190   32  9732    27214      23202    44396      136    20081  37967   \n",
       "45193   28  1579    12790      13301    44396      159    20081  37967   \n",
       "45195   68  2264    27214      23202    44396     1146    20081  37967   \n",
       "45201   53  9458    27214      13301    44396      583    20081  37967   \n",
       "45208   72  2264    27214      23202    44396     5715    20081  37967   \n",
       "\n",
       "       contact  day  month  duration  campaign  pdays  poutcome  y  \n",
       "24080    13020   23    738       518         1    147      1511  1  \n",
       "24165     2906   12   3970       119         1    167      1511  0  \n",
       "24239    29285   17   3970       123         1    164      1511  0  \n",
       "24264    29285   17   3970       208         1    159      1511  0  \n",
       "24435    29285   17   3970        77         1    103      1511  0  \n",
       "...        ...  ...    ...       ...       ...    ...       ... ..  \n",
       "45190    29285   16   3970       206         1    188      1511  1  \n",
       "45193    29285   16   3970       449         2     33      1511  1  \n",
       "45195    29285   16   3970       212         1    187      1511  1  \n",
       "45201    29285   17   3970       226         1    184      1511  1  \n",
       "45208    29285   17   3970      1127         5    184      1511  1  \n",
       "\n",
       "[1511 rows x 16 columns]"
      ]
     },
     "execution_count": 4,
     "metadata": {},
     "output_type": "execute_result"
    }
   ],
   "source": [
    "success_df=bank_df[bank_df['poutcome']==1511]\n",
    "success_df"
   ]
  },
  {
   "cell_type": "code",
   "execution_count": 5,
   "metadata": {},
   "outputs": [],
   "source": [
    "#lets identify features and target\n",
    "X=bank_df.drop(['y'],axis=1)\n",
    "y=bank_df['y']"
   ]
  },
  {
   "cell_type": "code",
   "execution_count": 6,
   "metadata": {},
   "outputs": [
    {
     "name": "stdout",
     "output_type": "stream",
     "text": [
      "(45211, 15)\n",
      "(45211,)\n"
     ]
    }
   ],
   "source": [
    "print(X.shape)\n",
    "print(y.shape)"
   ]
  },
  {
   "cell_type": "code",
   "execution_count": 7,
   "metadata": {},
   "outputs": [],
   "source": [
    "logreg_model=LogisticRegression(class_weight='balanced',max_iter=1000)"
   ]
  },
  {
   "cell_type": "code",
   "execution_count": 8,
   "metadata": {},
   "outputs": [],
   "source": [
    "from sklearn.model_selection import train_test_split\n",
    "X_train, X_test, y_train, y_test = train_test_split(X, y, test_size=0.2, random_state =21)"
   ]
  },
  {
   "cell_type": "code",
   "execution_count": 9,
   "metadata": {},
   "outputs": [
    {
     "data": {
      "text/plain": [
       "LogisticRegression(class_weight='balanced', max_iter=1000)"
      ]
     },
     "execution_count": 9,
     "metadata": {},
     "output_type": "execute_result"
    }
   ],
   "source": [
    "logreg_model.fit(X_train,y_train)"
   ]
  },
  {
   "cell_type": "code",
   "execution_count": 10,
   "metadata": {},
   "outputs": [],
   "source": [
    "# prediction on y\n",
    "y_train_pred=logreg_model.predict(X_train)\n",
    "y_test_pred=logreg_model.predict(X_test)"
   ]
  },
  {
   "cell_type": "code",
   "execution_count": 11,
   "metadata": {},
   "outputs": [
    {
     "name": "stdout",
     "output_type": "stream",
     "text": [
      "accuracy score of training data using logreg model:  0.8111037381110374\n",
      "accuracy score of testing data using logreg model:  0.8064801503925688\n"
     ]
    }
   ],
   "source": [
    "#accuracy check on train and test data\n",
    "print('accuracy score of training data using logreg model: ',accuracy_score(y_train,y_train_pred))\n",
    "print('accuracy score of testing data using logreg model: ',accuracy_score(y_test,y_test_pred))"
   ]
  },
  {
   "cell_type": "code",
   "execution_count": 12,
   "metadata": {},
   "outputs": [],
   "source": [
    "#lets save this model\n",
    "import pickle\n",
    "# open a file, where you ant to store the data\n",
    "file = open('log_reg_model.pkl', 'wb')\n",
    "\n",
    "# dump information to that file\n",
    "pickle.dump(logreg_model, file)\n",
    "file.close()"
   ]
  },
  {
   "cell_type": "code",
   "execution_count": 13,
   "metadata": {},
   "outputs": [],
   "source": [
    "model = pickle.load(open('log_reg_model.pkl', 'rb'))"
   ]
  },
  {
   "cell_type": "code",
   "execution_count": 14,
   "metadata": {},
   "outputs": [],
   "source": [
    "prediction=model.predict([[58,9458,27214,13301,44396,2143,25130,37967,13020,5,13766,261,1,-1,36959]])"
   ]
  },
  {
   "cell_type": "code",
   "execution_count": 15,
   "metadata": {},
   "outputs": [
    {
     "name": "stdout",
     "output_type": "stream",
     "text": [
      "0\n"
     ]
    }
   ],
   "source": [
    "res=prediction[0]\n",
    "print(res)"
   ]
  },
  {
   "cell_type": "code",
   "execution_count": 16,
   "metadata": {},
   "outputs": [],
   "source": [
    "prediction=model.predict([[72,2264,27214,23202,44396,5715,20081,37967,29285,17,3970,1127,5,184,1511]])"
   ]
  },
  {
   "cell_type": "code",
   "execution_count": 17,
   "metadata": {},
   "outputs": [
    {
     "name": "stdout",
     "output_type": "stream",
     "text": [
      "1\n"
     ]
    }
   ],
   "source": [
    "res=prediction[0]\n",
    "print(res)"
   ]
  },
  {
   "cell_type": "code",
   "execution_count": 18,
   "metadata": {},
   "outputs": [],
   "source": [
    "pred=model.predict([[32,9732,27214,23202,44396,136,20081,37967,29285,16,3970,206,1,188,1511]])"
   ]
  },
  {
   "cell_type": "code",
   "execution_count": 19,
   "metadata": {},
   "outputs": [
    {
     "name": "stdout",
     "output_type": "stream",
     "text": [
      "1\n"
     ]
    }
   ],
   "source": [
    "result=pred[0]\n",
    "print(result)"
   ]
  },
  {
   "cell_type": "code",
   "execution_count": null,
   "metadata": {},
   "outputs": [],
   "source": []
  }
 ],
 "metadata": {
  "kernelspec": {
   "display_name": "Python 3",
   "language": "python",
   "name": "python3"
  },
  "language_info": {
   "codemirror_mode": {
    "name": "ipython",
    "version": 3
   },
   "file_extension": ".py",
   "mimetype": "text/x-python",
   "name": "python",
   "nbconvert_exporter": "python",
   "pygments_lexer": "ipython3",
   "version": "3.8.5"
  }
 },
 "nbformat": 4,
 "nbformat_minor": 4
}
